{
  "nbformat": 4,
  "nbformat_minor": 0,
  "metadata": {
    "colab": {
      "name": "Classification.ipynb",
      "provenance": [],
      "collapsed_sections": []
    },
    "kernelspec": {
      "display_name": "Python 2",
      "language": "python",
      "name": "python2"
    }
  },
  "cells": [
    {
      "cell_type": "markdown",
      "metadata": {
        "id": "TUkyNNPWTBPJ",
        "colab_type": "text"
      },
      "source": [
        "# Parametric and Non-Parametric Classification\n"
      ]
    },
    {
      "cell_type": "code",
      "metadata": {
        "id": "yoISMLx4TBPL",
        "colab_type": "code",
        "colab": {}
      },
      "source": [
        "import numpy as np\n",
        "import matplotlib.pyplot as plt"
      ],
      "execution_count": 0,
      "outputs": []
    },
    {
      "cell_type": "markdown",
      "metadata": {
        "id": "RH3FTq9CTBPk",
        "colab_type": "text"
      },
      "source": [
        "points2d.dat dataset is used. The sample includes 6000 instances. Each instance is represented by a feature vector of 2 dimensions. The third column corresponds to the class (0/1/2) of the instance."
      ]
    },
    {
      "cell_type": "markdown",
      "metadata": {
        "id": "W46-oiUTTBPl",
        "colab_type": "text"
      },
      "source": [
        "## A: Mixture of Gaussians. \n",
        "\n",
        "Steps:\n",
        "* Implement mixture of gaussians.\n",
        "* Divide data to training and validation and test sets.\n",
        "* At training:\n",
        "    - Divide all data to their respective classes.\n",
        "    - Run mixture of gaussians with k=1,2,3 using different initial points (the general practice is to use k-means to initialize the means, you can use sklearn implementation of k-means). \n",
        "* At validation, select best model:\n",
        "    - Using validation data, select best number of gaussians for each class using prediction error.\n",
        "* On test set, report (for the best model):\n",
        "    - the number of Gaussians for class 0, 1 and 2,\n",
        "    - the prediction error, and\n",
        "    - the confusion matrix."
      ]
    },
    {
      "cell_type": "code",
      "metadata": {
        "id": "eAJoCMugTBPm",
        "colab_type": "code",
        "colab": {}
      },
      "source": [
        "file = open('points2d.dat', 'r')\n",
        "data = np.array([])\n",
        "labels = list()\n",
        "for line in file:\n",
        "  words = line.split()\n",
        "  data = np.concatenate((data, list(map(float, words[:2]))), axis = 0)\n",
        "  labels.append(int(words[2]))\n",
        "data = np.reshape(data, (len(data)/2, 2))\n",
        "x_train = data[:int(len(data)*0.5)]\n",
        "labels_train = labels[:int(len(labels)*0.5)]\n",
        "x_valid = data[int(len(data)*0.5):int(len(data)*0.75)]\n",
        "labels_valid = labels[int(len(labels)*0.5):int(len(labels)*0.75)]\n",
        "x_test = data[int(len(data)*0.75):]\n",
        "labels_test = labels[int(len(labels)*0.75):]"
      ],
      "execution_count": 0,
      "outputs": []
    },
    {
      "cell_type": "code",
      "metadata": {
        "id": "OwjPREcpF9bV",
        "colab_type": "code",
        "colab": {}
      },
      "source": [
        "def NormalPDF(x, mean, cov, d):\n",
        "  import math\n",
        "  return 1/pow((2 * math.pi), -d/2) * pow(abs(np.linalg.det(cov)), -1/2) * np.exp(-1/2 * np.dot(np.dot((x - mean).T, np.linalg.inv(cov)), (x - mean)))"
      ],
      "execution_count": 0,
      "outputs": []
    },
    {
      "cell_type": "code",
      "metadata": {
        "id": "6-y-0gvllWS7",
        "colab_type": "code",
        "colab": {}
      },
      "source": [
        " def EM(xx, k):\n",
        "    from sklearn.cluster import KMeans\n",
        "    kmeans = KMeans(n_clusters=k)\n",
        "    kmeans.fit(xx)\n",
        "    means = kmeans.cluster_centers_\n",
        "    labeled_data = []\n",
        "    mixing_coeffs = []\n",
        "    covs = []\n",
        "    for i in range(k):\n",
        "        labeled_data.append([xx[j] for j in range(len(xx)) if labels[j] == i])\n",
        "        mixing_coeffs.append(len(labeled_data[i]))\n",
        "        covs.append(np.cov(np.asarray(labeled_data[i]).T))\n",
        "    mixing_coeffs = np.asarray(mixing_coeffs) / float(len(xx))\n",
        "    old_loglikelihood = 0\n",
        "    count = 0\n",
        "    while True:\n",
        "        # expectation\n",
        "        r_ics = np.array([])\n",
        "        for x in xx:\n",
        "            list1 = []\n",
        "            sum_r = 0\n",
        "            for i in range(k):\n",
        "                r = float(mixing_coeffs[i]) * NormalPDF(x, means[i], covs[i], 2)\n",
        "                list1.append(r)\n",
        "                sum_r += r\n",
        "            list1 = np.asarray(list1)\n",
        "            r_ics = np.concatenate((r_ics, list1 / float(sum_r)))\n",
        "        r_ics = np.reshape(r_ics, (int(len(r_ics) / k), k))\n",
        "\n",
        "        # maximization\n",
        "        mcs = np.sum(r_ics, axis=0)\n",
        "        mixing_coeffs = mcs / float(np.sum(mcs))\n",
        "\n",
        "        means = np.array([])\n",
        "        for c in range(k):\n",
        "            arr = np.sum(r_ics.T[c].reshape(len(xx), 1) * xx, axis=0) / float(np.sum(r_ics.T[c].reshape(len(xx), 1)))\n",
        "            arr = np.asarray(arr)\n",
        "            means = np.concatenate((means, arr), axis=0)\n",
        "        means = means.reshape(k, 2)\n",
        "\n",
        "        covs = []\n",
        "        for c in range(k):\n",
        "            dot_sum = np.array([[0, 0], [0, 0]])\n",
        "            for i in range(len(xx)):\n",
        "                dot = np.dot(np.asarray(xx[i] - means[c]).reshape(1, 2).T, np.asarray(xx[i] - means[c]).reshape(1, 2))\n",
        "                dot = r_ics[i][c] * dot\n",
        "                dot_sum = dot_sum + (dot / float(mcs[c]))\n",
        "            covs.append(dot_sum)\n",
        "\n",
        "        # likelihood\n",
        "        log_likelihood = 0\n",
        "        for x in xx:\n",
        "            temp = 0\n",
        "            for c in range(k):\n",
        "                r = mixing_coeffs[c] * NormalPDF(x, means[c], covs[c], 2)\n",
        "                temp += r\n",
        "            log_likelihood += np.log(temp)\n",
        "\n",
        "        if count != 0 and log_likelihood - old_loglikelihood < 0.01:\n",
        "            return mixing_coeffs, means, covs\n",
        "\n",
        "        old_loglikelihood = log_likelihood\n",
        "        count += 1\n",
        "       "
      ],
      "execution_count": 0,
      "outputs": []
    },
    {
      "cell_type": "code",
      "metadata": {
        "id": "a5Mn5MSS39PU",
        "colab_type": "code",
        "outputId": "1ae297c9-dbe9-4db4-fc2b-3d11cf503492",
        "colab": {
          "base_uri": "https://localhost:8080/",
          "height": 85
        }
      },
      "source": [
        "# Train\n",
        "x_train_0 = np.asarray([x_train[i] for i in range(len(x_train)) if labels_train[i] == 0])\n",
        "x_train_1 = np.asarray([x_train[i] for i in range(len(x_train)) if labels_train[i] == 1])\n",
        "x_train_2 = np.asarray([x_train[i] for i in range(len(x_train)) if labels_train[i] == 2])\n",
        "\n",
        "class_0_models = [EM(x_train_0, 1), EM(x_train_0, 2), EM(x_train_0, 3)]\n",
        "class_1_models = [EM(x_train_1, 1), EM(x_train_1, 2), EM(x_train_1, 3)]\n",
        "class_2_models = [EM(x_train_2, 1), EM(x_train_2, 2), EM(x_train_2, 3)]\n",
        "\n",
        "print class_2_models[1]"
      ],
      "execution_count": 5,
      "outputs": [
        {
          "output_type": "stream",
          "text": [
            "(array([0.57541102, 0.42458898]), array([[-1.92445195, -2.92808644],\n",
            "       [-5.96266218, -4.93996574]]), [array([[ 3.43609232, -1.50410238],\n",
            "       [-1.50410238,  4.25488207]]), array([[ 2.48472833, -0.90126106],\n",
            "       [-0.90126106,  5.19681356]])])\n"
          ],
          "name": "stdout"
        }
      ]
    },
    {
      "cell_type": "code",
      "metadata": {
        "id": "kkQSI9qckamy",
        "colab_type": "code",
        "colab": {}
      },
      "source": [
        "# Validation\n",
        "errors = []\n",
        "\n",
        "for i_0 in range(3):\n",
        "    for i_1 in range(3):\n",
        "        for i_2 in range(3):\n",
        "            cluster_labels = [0 for n in range(i_0+1)]\n",
        "            cluster_labels.extend([1 for n in range(i_1+1)])\n",
        "            cluster_labels.extend([2 for n in range(i_2+1)])\n",
        "            k = i_0 + i_1 + i_2 + 3\n",
        "            means = np.concatenate((class_0_models[i_0][1], (np.concatenate((class_1_models[i_1][1], class_2_models[i_2][1]), axis=0))), axis=0)\n",
        "            covs = np.concatenate((class_0_models[i_0][2], (np.concatenate((class_1_models[i_1][2], class_2_models[i_2][2]), axis=0))), axis=0)\n",
        "            mixing_coeffs = np.concatenate((class_0_models[i_0][0], (np.concatenate((class_1_models[i_1][0], class_2_models[i_2][0]), axis=0))), axis=0)\n",
        "            error = 0\n",
        "            for v in range(len(x_valid)):\n",
        "                list1 = []\n",
        "                for i in range(k):\n",
        "                    r = float(mixing_coeffs[i]) * NormalPDF(x_valid[v], means[i], covs[i], 2)\n",
        "                    list1.append(r)\n",
        "                    \n",
        "                if labels_valid[v] != cluster_labels[list1.index(max(list1))]:\n",
        "                    error += 1\n",
        "            errors.append((error / float(len(x_valid)), i_0, i_1, i_2))\n",
        "            "
      ],
      "execution_count": 0,
      "outputs": []
    },
    {
      "cell_type": "code",
      "metadata": {
        "id": "gw_GosIjsJwL",
        "colab_type": "code",
        "colab": {}
      },
      "source": [
        "err, ind_model_0, ind_model_1, ind_model_2 = min(errors)\n"
      ],
      "execution_count": 0,
      "outputs": []
    },
    {
      "cell_type": "code",
      "metadata": {
        "id": "LIQBDSGhtoBI",
        "colab_type": "code",
        "colab": {}
      },
      "source": [
        "# Test\n",
        "cluster_labels = [0 for n in range(ind_model_0 + 1)]\n",
        "cluster_labels.extend([1 for n in range(ind_model_1 + 1)])\n",
        "cluster_labels.extend([2 for n in range(ind_model_2 + 1)])\n",
        "k = ind_model_0 + ind_model_1 + ind_model_2 + 3\n",
        "means = np.concatenate(\n",
        "    (class_0_models[ind_model_0][1], (np.concatenate((class_1_models[ind_model_1][1], class_2_models[ind_model_2][1]), axis=0))), axis=0)\n",
        "covs = np.concatenate(\n",
        "    (class_0_models[ind_model_0][2], (np.concatenate((class_1_models[ind_model_1][2], class_2_models[ind_model_2][2]), axis=0))), axis=0)\n",
        "mixing_coeffs = np.concatenate(\n",
        "    (class_0_models[ind_model_0][0], (np.concatenate((class_1_models[ind_model_1][0], class_2_models[ind_model_2][0]), axis=0))), axis=0)\n",
        "error = 0\n",
        "gmm_labels = []\n",
        "for t in range(len(x_test)):\n",
        "    list1 = []\n",
        "    for i in range(k):\n",
        "        r = float(mixing_coeffs[i]) * NormalPDF(x_test[t], means[i], covs[i], 2)\n",
        "        list1.append(r)\n",
        "    temp_lbl = cluster_labels[list1.index(max(list1))]\n",
        "    gmm_labels.append(temp_lbl)\n",
        "    if labels_test[t] != temp_lbl:\n",
        "        error += 1\n",
        "        \n",
        "\n",
        "error = error / float(len(x_test))"
      ],
      "execution_count": 0,
      "outputs": []
    },
    {
      "cell_type": "code",
      "metadata": {
        "id": "4BrsFYklwkDv",
        "colab_type": "code",
        "outputId": "a0a6b98a-1108-4548-ab55-0904c1a8b6c5",
        "colab": {
          "base_uri": "https://localhost:8080/",
          "height": 379
        }
      },
      "source": [
        "# Report\n",
        "print('Best Model:')\n",
        "print('\\t For Class 0, k = %d' % (ind_model_0 + 1))\n",
        "print('\\t For Class 1, k = %d' % (ind_model_1 + 1))\n",
        "print('\\t For Class 2, k = %d' % (ind_model_2 + 1))\n",
        "print('Prediction Error: %f' % error)\n",
        "\n",
        "conf_matrix = np.array([[0,0,0], [0,0,0], [0,0,0]])\n",
        "for i in range(len(labels_test)):\n",
        "  conf_matrix[labels_test[i]][gmm_labels[i]] += 1\n",
        "\n",
        "col = ['Class 0 Predicted', 'Class 1 Predicted', 'Class 2 Predicted']\n",
        "row = ['Class 0 Actual', 'Class 1 Actual', 'Class 2 Actual']\n",
        "\n",
        "fig = plt.figure()\n",
        "fig.suptitle('Confusion Matrix')\n",
        "\n",
        "axs = plt.subplot()\n",
        "plt.table(cellText=conf_matrix,\n",
        "                      rowLabels=row,\n",
        "                      colLabels=col,\n",
        "                      loc='best')\n",
        "axs.axis('off')\n",
        "plt.show()"
      ],
      "execution_count": 9,
      "outputs": [
        {
          "output_type": "stream",
          "text": [
            "Best Model:\n",
            "\t For Class 0, k = 2\n",
            "\t For Class 1, k = 2\n",
            "\t For Class 2, k = 2\n",
            "Prediction Error: 0.300000\n"
          ],
          "name": "stdout"
        },
        {
          "output_type": "display_data",
          "data": {
            "image/png": "[encoded data removed]",
            "text/plain": [
              "<Figure size 432x288 with 1 Axes>"
            ]
          },
          "metadata": {
            "tags": []
          }
        }
      ]
    },
    {
      "cell_type": "markdown",
      "metadata": {
        "id": "Ynoko7LDTBPo",
        "colab_type": "text"
      },
      "source": [
        "## B: K-Nearest Neighbor\n",
        "Steps:\n",
        "* Implement k-nearest neighbor. \n",
        "* Run it with k=1,10,40. \n",
        "* Using test set, Report\n",
        "    - best k,\n",
        "    - prediction error for all k’s.\n",
        "    - confusion matrix for all k’s."
      ]
    },
    {
      "cell_type": "code",
      "metadata": {
        "id": "9fh-2niJTE_J",
        "colab_type": "code",
        "colab": {}
      },
      "source": [
        "def KNN(xx_train, train_labels, xx_test, k):\n",
        "  labels = []\n",
        "  for x in xx_test:\n",
        "    l = [(np.linalg.norm(x - xx_train[i]), train_labels[i]) for i in range(len(xx_train))]\n",
        "    l.sort(key=lambda x: x[0])\n",
        "    votes = [0, 0, 0]\n",
        "    for tuple in l[:k]:\n",
        "      votes[tuple[1]] += 1\n",
        "    most_voted = votes.index(max(votes))\n",
        "    labels.append(most_voted)\n",
        "  return labels\n",
        "\n",
        "knn_labels = [KNN(x_train, labels_train, x_test, 1)]\n",
        "knn_labels.append(KNN(x_train, labels_train, x_test, 10))\n",
        "knn_labels.append(KNN(x_train, labels_train, x_test, 40))\n",
        "\n"
      ],
      "execution_count": 0,
      "outputs": []
    },
    {
      "cell_type": "code",
      "metadata": {
        "id": "TScOjEAJcZLZ",
        "colab_type": "code",
        "outputId": "8df706aa-d0cc-41d3-b8b0-01c85e1a4c70",
        "colab": {
          "base_uri": "https://localhost:8080/",
          "height": 379
        }
      },
      "source": [
        "err  = [0, 0, 0]\n",
        "conf_matrices = []\n",
        "for l in range(len(knn_labels)):\n",
        "  conf_matrix = np.array([[0,0,0], [0,0,0], [0,0,0]])\n",
        "  for i in range(len(labels_test)):\n",
        "    if knn_labels[l][i] != labels_test[i]:\n",
        "      err[l] += (1.0 / len(labels_test))\n",
        "    conf_matrix[labels_test[i]][knn_labels[l][i]] += 1\n",
        "  conf_matrices.append(conf_matrix)\n",
        "\n",
        "best_k = 0\n",
        "ind = err.index(min(err))\n",
        "if ind == 0:\n",
        "  best_k = '1'\n",
        "elif ind == 1:\n",
        "  best_k = '10'\n",
        "else:\n",
        "  best_k = '40'\n",
        "\n",
        "print('Best k: ' + best_k)\n",
        "print ('Prediction Errors:')\n",
        "print('\\tk = 1: ' + str(err[0]))\n",
        "print('\\tk = 10: ' + str(err[1]))\n",
        "print('\\tk = 40: ' + str(err[2]))\n",
        "\n",
        "cols = ['Class 0 Predicted', 'Class 1 Predicted', 'Class 2 Predicted']\n",
        "rows = ['Class 0 Actual', 'Class 1 Actual', 'Class 2 Actual']\n",
        "\n",
        "fig = plt.figure()\n",
        "fig.suptitle('Confusion Matrices')\n",
        "\n",
        "axs = plt.subplot(3,1,1)\n",
        "plt.table(cellText=conf_matrices[0],\n",
        "                      rowLabels=rows,\n",
        "                      colLabels=cols,\n",
        "                      loc='best')\n",
        "plt.title('k=1')\n",
        "axs.axis('off')\n",
        "\n",
        "axs2 = plt.subplot(3,1, 2)\n",
        "plt.table(cellText=conf_matrices[1],\n",
        "                      rowLabels=rows,\n",
        "                      colLabels=cols,\n",
        "                      loc='best')\n",
        "plt.title('k=10')\n",
        "axs2.axis('off')\n",
        "\n",
        "axs3 = plt.subplot(3,1,3)\n",
        "plt.table(cellText=conf_matrices[2],\n",
        "                      rowLabels=rows,\n",
        "                      colLabels=cols,\n",
        "                      loc='best')\n",
        "plt.title('k=40')\n",
        "axs3.axis('off')\n",
        "plt.show()"
      ],
      "execution_count": 11,
      "outputs": [
        {
          "output_type": "stream",
          "text": [
            "Best k: 10\n",
            "Prediction Errors:\n",
            "\tk = 1: 0.33\n",
            "\tk = 10: 0.26\n",
            "\tk = 40: 0.27\n"
          ],
          "name": "stdout"
        },
        {
          "output_type": "display_data",
          "data": {
            "image/png": "[encoded data removed]",
            "text/plain": [
              "<Figure size 432x288 with 3 Axes>"
            ]
          },
          "metadata": {
            "tags": []
          }
        }
      ]
    }
  ]
}